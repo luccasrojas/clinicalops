{
 "cells": [
  {
   "cell_type": "code",
   "execution_count": 9,
   "id": "2a080129",
   "metadata": {
    "cellUniqueIdByVincent": "94f64"
   },
   "outputs": [],
   "source": [
    "import assemblyai as aai\n",
    "from openai import OpenAI\n",
    "import json\n",
    "from datetime import datetime\n",
    "import locale\n",
    "import re\n",
    "import os  \n",
    "from dotenv import load_dotenv\n",
    "\n",
    "load_dotenv()\n",
    "\n",
    "from prompts import SYSTEM_PROMPT, CLINICAL_NOTE_EXAMPLE\n",
    "from utils import (deduplicate_tags,\n",
    "    get_text_from_transcript,\n",
    "    generate_temporal_context,\n",
    "    count_tokens,\n",
    "    save_transcription,\n",
    "    get_transcription,\n",
    "    save_clinical_note,\n",
    "    get_clinical_note,\n",
    "    get_audio_length\n",
    "    )"
   ]
  },
  {
   "cell_type": "code",
   "execution_count": 10,
   "id": "f5246b31",
   "metadata": {
    "cellUniqueIdByVincent": "5cc50"
   },
   "outputs": [],
   "source": [
    "OPENAI_API_KEY = os.getenv(\"OPENAI_API_KEY\")\n",
    "client = OpenAI(api_key=OPENAI_API_KEY)\n",
    "\n",
    "ASSEMBLY_KEY = os.getenv(\"ASSEMBLY_KEY\")\n",
    "aai.settings.api_key = ASSEMBLY_KEY\n",
    "\n",
    "AUDIO_PATH = \"data/audios/\"\n",
    "TRANSCRIPTIONS_PATH = \"data/transcriptions/\"\n",
    "CLINICAL_NOTES_PATH = \"data/clinical_notes/\"\n",
    "\n",
    "audio_file = \"005.m4a\""
   ]
  },
  {
   "cell_type": "code",
   "execution_count": 11,
   "id": "d0b0d023",
   "metadata": {
    "cellUniqueIdByVincent": "33a22"
   },
   "outputs": [],
   "source": [
    "def transcribe_audio(audio_file, reload=False):\n",
    "  audio_file_basename, _ = os.path.splitext(os.path.basename(audio_file))\n",
    "  transcription_path = os.path.join(TRANSCRIPTIONS_PATH, audio_file_basename + \".txt\")\n",
    "  audio_path = os.path.join(AUDIO_PATH, audio_file)\n",
    "  #Load transcription if exists and reload is False\n",
    "  if not reload:\n",
    "    transcription = get_transcription(transcription_path)\n",
    "    if transcription:\n",
    "      return transcription\n",
    "\n",
    "  config = aai.TranscriptionConfig(\n",
    "    speech_model=aai.SpeechModel.universal,\n",
    "    speaker_labels=True,\n",
    "    language_code=\"es\",\n",
    "    speakers_expected=2\n",
    "    )\n",
    "\n",
    "  transcript = aai.Transcriber(config=config).transcribe(audio_path)\n",
    "  text = get_text_from_transcript(transcript)\n",
    "  save_transcription(text, transcription_path)\n",
    "  return text"
   ]
  },
  {
   "cell_type": "code",
   "execution_count": null,
   "id": "40d8705c",
   "metadata": {
    "cellUniqueIdByVincent": "3bade"
   },
   "outputs": [],
   "source": [
    "transcription = transcribe_audio(audio_file, reload=False)"
   ]
  },
  {
   "cell_type": "code",
   "execution_count": 13,
   "id": "ef44b113",
   "metadata": {
    "cellUniqueIdByVincent": "b0bea"
   },
   "outputs": [],
   "source": [
    "def generate_clinical_note(user_prompt, system_prompt, audio_file, reload = False):\n",
    "    audio_file_basename, _ = os.path.splitext(os.path.basename(audio_file))\n",
    "    clinical_note_filename = os.path.join(CLINICAL_NOTES_PATH, audio_file_basename + \".json\")\n",
    "    if not reload:\n",
    "        clinical_note = get_clinical_note(clinical_note_filename)\n",
    "        if clinical_note:\n",
    "            return clinical_note\n",
    "\n",
    "    completion = client.responses.create(\n",
    "        model=\"gpt-5\",\n",
    "        reasoning={\"effort\": \"minimal\"},\n",
    "        input=[\n",
    "            {\n",
    "                \"role\": \"system\",\n",
    "                \"content\": system_prompt,\n",
    "            },\n",
    "            {\n",
    "                \"role\": \"user\",\n",
    "                \"content\": (\n",
    "                    user_prompt\n",
    "                ),\n",
    "            },\n",
    "        ],\n",
    "        text={\"format\": {\"type\": \"json_object\"}},\n",
    "    )\n",
    "    data = json.loads(completion.output[1].content[0].text)\n",
    "    save_clinical_note(data, clinical_note_filename)\n",
    "    return data"
   ]
  },
  {
   "cell_type": "code",
   "execution_count": null,
   "id": "eeeda09f",
   "metadata": {
    "cellUniqueIdByVincent": "d943e"
   },
   "outputs": [],
   "source": [
    "temporal_context = generate_temporal_context()\n",
    "system_prompt = SYSTEM_PROMPT.format(temporal_context=temporal_context, clinical_note_example=CLINICAL_NOTE_EXAMPLE)\n",
    "\n",
    "clinical_note = generate_clinical_note(transcription, system_prompt, audio_file, reload=False)\n",
    "clinical_note_text = json.dumps(clinical_note, indent=4, ensure_ascii=False)"
   ]
  },
  {
   "cell_type": "code",
   "execution_count": 15,
   "id": "62440cc9",
   "metadata": {
    "cellUniqueIdByVincent": "a494f"
   },
   "outputs": [
    {
     "name": "stdout",
     "output_type": "stream",
     "text": [
      "Costo de entrada GPT: 23.605 COP\n",
      "Costo de salida GPT: 47.52000000000001 COP\n",
      "Costo total GPT: 71.12500000000001 COP\n",
      "--------------------------------------------------\n",
      "Costo de transcripción: 140.49066666666664 COP\n",
      "Costo total transcripción: 140.49066666666664 COP\n",
      "--------------------------------------------------\n",
      "COSTO TOTAL: 211.61566666666664 COP\n"
     ]
    }
   ],
   "source": [
    "audio_path = os.path.join(AUDIO_PATH, audio_file)\n",
    "audio_time = get_audio_length(audio_path)\n",
    "input_tokens = count_tokens(transcription+system_prompt)\n",
    "output_tokens = count_tokens(clinical_note_text)\n",
    "\n",
    "dolar_a_cop = 4000\n",
    "\n",
    "cost_input = input_tokens * (1.25/1000000) * dolar_a_cop\n",
    "cost_output = output_tokens * (10/1000000) * dolar_a_cop\n",
    "cost_transcription = audio_time * (0.15/3600) * dolar_a_cop\n",
    "cost_pii_redaction = audio_time * (0.08/3600) * dolar_a_cop\n",
    "\n",
    "print(f\"Costo de entrada GPT: {cost_input} COP\")\n",
    "print(f\"Costo de salida GPT: {cost_output} COP\")\n",
    "print(f\"Costo total GPT: {cost_input + cost_output} COP\")\n",
    "print(\"-\"*50)\n",
    "\n",
    "print(f\"Costo de transcripción: {cost_transcription} COP\")\n",
    "print(f\"Costo total transcripción: {cost_transcription} COP\")\n",
    "print(\"-\"*50)\n",
    "\n",
    "print(f\"COSTO TOTAL: {cost_input + cost_output + cost_transcription} COP\")"
   ]
  }
 ],
 "metadata": {
  "kernelspec": {
   "display_name": ".venv",
   "language": "python",
   "name": "python3"
  },
  "language_info": {
   "codemirror_mode": {
    "name": "ipython",
    "version": 3
   },
   "file_extension": ".py",
   "mimetype": "text/x-python",
   "name": "python",
   "nbconvert_exporter": "python",
   "pygments_lexer": "ipython3",
   "version": "3.12.7"
  },
  "vincent": {
   "sessionId": "c597e4145cee1e2528c1eda4_2025-10-06T22-17-19-644Z"
  }
 },
 "nbformat": 4,
 "nbformat_minor": 5
}
