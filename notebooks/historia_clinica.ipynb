{
 "cells": [
  {
   "cell_type": "code",
   "execution_count": null,
   "metadata": {
    "cellUniqueIdByVincent": "e8d2a"
   },
   "outputs": [],
   "source": [
    "import os\n",
    "from dotenv import load_dotenv\n",
    "import assemblyai as aai\n",
    "from pydantic import BaseModel\n",
    "from openai import OpenAI\n",
    "import json\n",
    "from datetime import datetime\n",
    "\n",
    "from prompt import system_prompt\n",
    "load_dotenv()"
   ]
  },
  {
   "cell_type": "code",
   "execution_count": null,
   "metadata": {
    "cellUniqueIdByVincent": "5af7b"
   },
   "outputs": [],
   "source": [
    "OPENAI_KEY = os.getenv(\"OPENAI_API_KEY\")\n",
    "ASSEMBLY_KEY = os.getenv(\"ASSEMBLY_KEY\")"
   ]
  },
  {
   "cell_type": "code",
   "execution_count": null,
   "metadata": {
    "cellUniqueIdByVincent": "a96fe"
   },
   "outputs": [],
   "source": [
    "def transcribe_audio(audio_url):\n",
    "    aai.settings.api_key = ASSEMBLY_KEY\n",
    "\n",
    "    config = aai.TranscriptionConfig(speech_model=aai.SpeechModel.universal, speaker_labels=True, language_code=\"es\", speakers_expected=2)\n",
    "\n",
    "    transcript = aai.Transcriber(config=config).transcribe(audio_file)\n",
    "    if transcript.status == \"error\":\n",
    "        raise RuntimeError(f\"Transcription failed: {transcript.error}\")\n",
    "\n",
    "    full_text = \"\"\n",
    "    for utterance in transcript.utterances:\n",
    "        speaker = f\"Speaker{utterance.speaker}\"\n",
    "        text = utterance.text\n",
    "        \n",
    "        full_text += f\"{speaker}: {text}\\n\\n\"\n",
    "    \n",
    "    return full_text\n",
    "    "
   ]
  },
  {
   "cell_type": "code",
   "execution_count": null,
   "metadata": {
    "cellUniqueIdByVincent": "1f3d7"
   },
   "outputs": [],
   "source": [
    "def generate_temporal_context():\n",
    "    hoy = datetime.now()\n",
    "    dia_semana = hoy.strftime(\"%A\")\n",
    "    fecha = hoy.strftime(\"%d de %B de %Y %H:%M\")\n",
    "    return f\"hoy es {dia_semana}, {fecha}.\""
   ]
  },
  {
   "cell_type": "code",
   "execution_count": null,
   "metadata": {
    "cellUniqueIdByVincent": "a81c7"
   },
   "outputs": [],
   "source": [
    "def generate_historia_clinica(transcription, prompt):\n",
    "    client = OpenAI(api_key=OPENAI_API_KEY)\n",
    "\n",
    "    temporal_context = generate_temporal_context()\n",
    "    formatted_prompt = prompt.format(temporal_context=temporal_context)\n",
    "\n",
    "    completion = client.responses.create(\n",
    "        model=\"gpt-5\",\n",
    "        reasoning={\"effort\": \"minimal\"},\n",
    "        input=[\n",
    "            {\n",
    "                \"role\": \"system\",\n",
    "                \"content\": formatted_prompt,\n",
    "            },\n",
    "            {\n",
    "                \"role\": \"user\",\n",
    "                \"content\": (\n",
    "                    transcription\n",
    "                ),\n",
    "            },\n",
    "        ],\n",
    "        text={\"format\": {\"type\": \"json_object\"}},\n",
    "    )\n",
    "    \n",
    "    data = json.loads(completion.output[1].content[0].text)\n",
    "    return data"
   ]
  },
  {
   "cell_type": "code",
   "execution_count": null,
   "metadata": {
    "cellUniqueIdByVincent": "83290"
   },
   "outputs": [],
   "source": [
    "audio_path=\"\""
   ]
  },
  {
   "cell_type": "code",
   "execution_count": null,
   "metadata": {
    "cellUniqueIdByVincent": "4fa90"
   },
   "outputs": [],
   "source": [
    "transcription = transcribe_audio(audio_path)\n",
    "histoiria_clinica = generate_historia_clinica(transcription, system_prompt)\n",
    "histoiria_clinica"
   ]
  }
 ],
 "metadata": {
  "language_info": {
   "name": "python"
  },
  "vincent": {
   "sessionId": "5f29aaa1524ec94f75554eb0_2025-10-09T01-28-04-332Z"
  }
 },
 "nbformat": 4,
 "nbformat_minor": 5
}
