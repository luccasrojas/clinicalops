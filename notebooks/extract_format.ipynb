{
 "cells": [
  {
   "cell_type": "code",
   "execution_count": 1,
   "metadata": {
    "cellUniqueIdByVincent": "943ea"
   },
   "outputs": [],
   "source": [
    "from openai import OpenAI\n",
    "import json\n",
    "import os  \n",
    "from dotenv import load_dotenv\n",
    "\n",
    "load_dotenv()\n",
    "\n",
    "from prompts import EXTRACT_STRUCTURE_SYSTEM_PROMPT, CLINICAL_NOTE_EXAMPLE\n",
    "from utils import (\n",
    "    count_tokens\n",
    "    )"
   ]
  },
  {
   "cell_type": "code",
   "execution_count": 2,
   "metadata": {
    "cellUniqueIdByVincent": "69e3a"
   },
   "outputs": [],
   "source": [
    "OPENAI_API_KEY = os.getenv(\"OPENAI_API_KEY\")\n",
    "client = OpenAI(api_key=OPENAI_API_KEY)"
   ]
  },
  {
   "cell_type": "code",
   "execution_count": 3,
   "metadata": {
    "cellUniqueIdByVincent": "2e5fe"
   },
   "outputs": [],
   "source": [
    "def generate_structure_from_clinical_note(clinical_note_text):\n",
    "\n",
    "    completion = client.responses.create(\n",
    "        model=\"gpt-5\",\n",
    "        reasoning={\"effort\": \"minimal\"},\n",
    "        input=[\n",
    "            {\n",
    "                \"role\": \"system\",\n",
    "                \"content\": EXTRACT_STRUCTURE_SYSTEM_PROMPT,\n",
    "            },\n",
    "            {\n",
    "                \"role\": \"user\",\n",
    "                \"content\": (\n",
    "                    clinical_note_text\n",
    "                ),\n",
    "            },\n",
    "        ],\n",
    "        text={\"format\": {\"type\": \"json_object\"}},\n",
    "    )\n",
    "    data = json.loads(completion.output[1].content[0].text)\n",
    "    return data"
   ]
  },
  {
   "cell_type": "code",
   "execution_count": 4,
   "metadata": {
    "cellUniqueIdByVincent": "68ace"
   },
   "outputs": [],
   "source": [
    "clinical_note = generate_structure_from_clinical_note(CLINICAL_NOTE_EXAMPLE)\n"
   ]
  },
  {
   "cell_type": "code",
   "execution_count": 5,
   "metadata": {
    "cellUniqueIdByVincent": "6c4b3"
   },
   "outputs": [
    {
     "name": "stdout",
     "output_type": "stream",
     "text": [
      "{\n",
      "    \"tipo_historia\": \"consulta_medica_general\",\n",
      "    \"especialidad_probable\": \"medicina_general\",\n",
      "    \"estructura_historia_clinica\": {\n",
      "        \"datos_personales\": {\n",
      "            \"nombre\": \"\",\n",
      "            \"identificacion\": \"\",\n",
      "            \"edad\": \"\",\n",
      "            \"sexo\": \"\",\n",
      "            \"direccion_residencia\": \"\",\n",
      "            \"telefono\": \"\",\n",
      "            \"acompanante\": \"\",\n",
      "            \"aseguradora\": \"\",\n",
      "            \"informante\": \"\",\n",
      "            \"calidad_informacion\": \"\",\n",
      "            \"fecha_consulta\": \"\",\n",
      "            \"servicio_lugar\": \"\"\n",
      "        },\n",
      "        \"motivo_consulta\": \"\",\n",
      "        \"enfermedad_actual\": \"\",\n",
      "        \"antecedentes_relevantes\": {\n",
      "            \"patologicos\": \"\",\n",
      "            \"quirurgicos\": \"\",\n",
      "            \"farmacologicos_medicamentos\": \"\",\n",
      "            \"alergias\": \"\",\n",
      "            \"ginecoobstetricos\": \"\",\n",
      "            \"familiares\": \"\",\n",
      "            \"sociales\": \"\",\n",
      "            \"habitos_toxicos\": \"\"\n",
      "        },\n",
      "        \"revision_por_sistemas\": {\n",
      "            \"general\": \"\",\n",
      "            \"neurologico\": \"\",\n",
      "            \"cardiovascular\": \"\",\n",
      "            \"respiratorio\": \"\",\n",
      "            \"gastrointestinal\": \"\",\n",
      "            \"genitourinario\": \"\",\n",
      "            \"musculo_esqueletico\": \"\",\n",
      "            \"dermatologico\": \"\",\n",
      "            \"otorinolaringologico\": \"\",\n",
      "            \"oftalmologico\": \"\",\n",
      "            \"endocrino\": \"\",\n",
      "            \"psiquiatrico\": \"\"\n",
      "        },\n",
      "        \"examen_fisico\": {\n",
      "            \"signos_vitales\": {\n",
      "                \"tension_arterial\": \"\",\n",
      "                \"frecuencia_cardiaca\": \"\",\n",
      "                \"frecuencia_respiratoria\": \"\",\n",
      "                \"temperatura\": \"\",\n",
      "                \"saturacion_oxigeno\": \"\",\n",
      "                \"peso\": \"\",\n",
      "                \"talla\": \"\",\n",
      "                \"imc\": \"\"\n",
      "            },\n",
      "            \"estado_general\": \"\",\n",
      "            \"cabeza_orl\": \"\",\n",
      "            \"cuello\": \"\",\n",
      "            \"neurologico\": \"\",\n",
      "            \"cardiovascular\": \"\",\n",
      "            \"respiratorio\": \"\",\n",
      "            \"abdomen\": \"\",\n",
      "            \"genitourinario\": \"\",\n",
      "            \"musculo_esqueletico\": \"\",\n",
      "            \"piel_tegumentos\": \"\"\n",
      "        },\n",
      "        \"paraclinicos_imagenes\": [\n",
      "            {\n",
      "                \"fecha\": \"\",\n",
      "                \"estudio\": \"\",\n",
      "                \"resultado_hallazgos\": \"\"\n",
      "            }\n",
      "        ],\n",
      "        \"impresion_diagnostica\": [\n",
      "            {\n",
      "                \"diagnostico\": \"\",\n",
      "                \"cie10\": \"\",\n",
      "                \"tipo\": \"\"\n",
      "            }\n",
      "        ],\n",
      "        \"analisis_clinico\": \"\",\n",
      "        \"plan_manejo\": {\n",
      "            \"medidas_no_farmacologicas\": \"\",\n",
      "            \"medicacion\": \"\",\n",
      "            \"paraclinicos_solicitados\": \"\",\n",
      "            \"interconsultas_referencias\": \"\",\n",
      "            \"procedimientos\": \"\",\n",
      "            \"educacion_signos_alarma\": \"\",\n",
      "            \"seguimiento_citas\": \"\",\n",
      "            \"disposicion\": \"\"\n",
      "        },\n",
      "        \"notas_calidad_datos\": \"\"\n",
      "    }\n",
      "}\n"
     ]
    }
   ],
   "source": [
    "clinical_note_text = json.dumps(clinical_note, indent=4, ensure_ascii=False)\n",
    "print(clinical_note_text)\n"
   ]
  }
 ],
 "metadata": {
  "kernelspec": {
   "display_name": ".venv",
   "language": "python",
   "name": "python3"
  },
  "language_info": {
   "codemirror_mode": {
    "name": "ipython",
    "version": 3
   },
   "file_extension": ".py",
   "mimetype": "text/x-python",
   "name": "python",
   "nbconvert_exporter": "python",
   "pygments_lexer": "ipython3",
   "version": "3.12.7"
  },
  "vincent": {
   "sessionId": "9afd30e969c797080139df35_2025-10-20T23-10-21-146Z"
  }
 },
 "nbformat": 4,
 "nbformat_minor": 5
}
